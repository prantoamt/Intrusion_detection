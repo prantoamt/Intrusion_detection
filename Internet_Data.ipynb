{
 "cells": [
  {
   "cell_type": "code",
   "execution_count": 68,
   "metadata": {},
   "outputs": [
    {
     "data": {
      "image/png": "[encoded data removed]",
      "text/plain": [
       "<Figure size 432x288 with 1 Axes>"
      ]
     },
     "metadata": {
      "needs_background": "light"
     },
     "output_type": "display_data"
    }
   ],
   "source": [
    "%matplotlib inline\n",
    "import matplotlib as mpl\n",
    "import matplotlib.pyplot as plt\n",
    "import pandas as pd\n",
    "import numpy as np\n",
    "from sklearn.model_selection import train_test_split\n",
    "from sklearn.neighbors import KNeighborsClassifier\n",
    "from sklearn.feature_extraction.text import CountVectorizer\n",
    "from sklearn.preprocessing import LabelEncoder\n",
    "import mglearn\n",
    "\n",
    "\n",
    "##-------------load data method----------##\n",
    "def load_dataframe(path):\n",
    "    data_frame = pd.read_csv(path)\n",
    "    return data_frame\n",
    "##------------------------------##\n",
    "\n",
    "test_score = []\n",
    "train_score = []\n",
    "df = load_dataframe('Sample.csv')\n",
    "df.drop(['No.','Time','Source','Destination'], axis=1, inplace = True) ##drop unnecessary features\n",
    "##------------- Handle patterned texts---------##\n",
    "encoder = LabelEncoder()\n",
    "df_protocol = df['Protocol']\n",
    "df['Protocol'] = encoder.fit_transform(df_protocol)\n",
    "##--------------------------------------------##\n",
    "\n",
    "##cv = CountVectorizer()\n",
    "##info = cv.fit_transform(df['Info'].values)\n",
    "##df['Info'] = info\n",
    "df.drop('Info', axis=1, inplace = True)\n",
    "\n",
    "#----------Make targer list---------##\n",
    "target_list = []\n",
    "for i in range(0,499):\n",
    "    target_list.append(0)\n",
    "for i in range(0,499):\n",
    "    target_list.append(1)\n",
    "\n",
    "target = np.array(target_list)\n",
    "##--------------------------------##\n",
    "\n",
    "X_train, X_test, y_train, y_test = train_test_split(df.values, target, random_state=0) ##train set, test set split\n",
    "\n",
    "data_frame = pd.DataFrame(X_train, columns=df.columns)\n",
    "##grr = pd.plotting.scatter_matrix(data_frame, c=y_train, marker='o',figsize=(12,8), alpha=0.8, grid=True)\n",
    "##plt.savefig(\"Dos_scatter_matrix_using_length_&_protocol.png\")\n",
    "\n",
    "\n",
    "##---------Accuracy test----------------------##\n",
    "##neighbors_settings = range(1,11)\n",
    "##for i in neighbors_settings:\n",
    "    ##knn = KNeighborsClassifier(n_neighbors = i)\n",
    "    ##knn.fit(X_train, y_train)\n",
    "    ##train_score.append(knn.score(X_train,y_train))\n",
    "    ##test_score.append(knn.score(X_test,y_test))\n",
    "    \n",
    "##plt.plot(neighbors_settings,test_score, label=\"Test Score\") \n",
    "##plt.plot(neighbors_settings,train_score, label=\"Train Score\")\n",
    "##plt.xlabel(\"Neighbors\")\n",
    "##plt.ylabel(\"Train/Test Score\")\n",
    "##plt.title(\"Train, Test Accuracy Score\")\n",
    "##plt.legend([\"Test\", \"Train\"])\n",
    "##plt.savefig(\"KNeighbors acuracy.png\")\n",
    "##------------------------------------------##\n",
    "\n",
    "##knn = KNeighborsClassifier(n_neighbors=4)\n",
    "##knn.fit(X_train, y_train)\n",
    "\n",
    "##x_new = np.array([[12,1500]])\n",
    "##prediction = knn.predict(x_new)\n",
    "##if(prediction == 0):\n",
    "  ##  print(\"DOS\")\n",
    "##elif (prediction == 1):\n",
    "  ##  print(\"Normal\")\n",
    "\n",
    "##-----------------------Decesion Area Plot----------------------##    \n",
    "##clf = KNeighborsClassifier(n_neighbors=4).fit(X_train, y_train)\n",
    "##mglearn.plots.plot_2d_separator(clf,X_train, fill=True, eps=0.5, alpha = 0.4)\n",
    "##mglearn.discrete_scatter(X_train[:,0],X_train[:,1], y_train)\n",
    "##plt.xlabel(\"Protocol\")\n",
    "##plt.ylabel(\"Packet Length\")\n",
    "##plt.title(\"Neighbors = 4 decision Boundary\")\n",
    "##plt.legend([\"DOS\",\"Normal\"])\n",
    "##plt.savefig(\"Neighbors_4_decision_boundary.png\")\n",
    "##----------------------------------------------------------------##"
   ]
  },
  {
   "cell_type": "code",
   "execution_count": null,
   "metadata": {},
   "outputs": [],
   "source": []
  },
  {
   "cell_type": "code",
   "execution_count": null,
   "metadata": {},
   "outputs": [],
   "source": []
  },
  {
   "cell_type": "code",
   "execution_count": null,
   "metadata": {},
   "outputs": [],
   "source": []
  },
  {
   "cell_type": "code",
   "execution_count": 49,
   "metadata": {},
   "outputs": [
    {
     "data": {
      "text/plain": [
       "[1.0,\n",
       " 1.0,\n",
       " 1.0,\n",
       " 0.9973262032085561,\n",
       " 0.9973262032085561,\n",
       " 0.9973262032085561,\n",
       " 0.9973262032085561,\n",
       " 0.9973262032085561,\n",
       " 0.9973262032085561,\n",
       " 0.9973262032085561]"
      ]
     },
     "execution_count": 49,
     "metadata": {},
     "output_type": "execute_result"
    }
   ],
   "source": [
    "train_score"
   ]
  },
  {
   "cell_type": "code",
   "execution_count": 40,
   "metadata": {},
   "outputs": [
    {
     "data": {
      "text/plain": [
       "array(['ARP', 'DHCPv6', 'HSRP', 'LLDP', 'LLMNR', 'NBNS', 'SMB', 'SNMP',\n",
       "       'SSDP', 'STP', 'TCP', 'TLSv1.2', 'UDP'], dtype=object)"
      ]
     },
     "execution_count": 40,
     "metadata": {},
     "output_type": "execute_result"
    }
   ],
   "source": [
    "encoder.classes_"
   ]
  },
  {
   "cell_type": "code",
   "execution_count": null,
   "metadata": {},
   "outputs": [],
   "source": []
  }
 ],
 "metadata": {
  "celltoolbar": "Raw Cell Format",
  "kernelspec": {
   "display_name": "Python 3",
   "language": "python",
   "name": "python3"
  },
  "language_info": {
   "codemirror_mode": {
    "name": "ipython",
    "version": 3
   },
   "file_extension": ".py",
   "mimetype": "text/x-python",
   "name": "python",
   "nbconvert_exporter": "python",
   "pygments_lexer": "ipython3",
   "version": "3.7.3"
  }
 },
 "nbformat": 4,
 "nbformat_minor": 2
}
