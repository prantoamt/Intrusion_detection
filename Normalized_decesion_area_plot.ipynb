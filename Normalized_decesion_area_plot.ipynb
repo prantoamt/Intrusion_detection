{
 "cells": [
  {
   "cell_type": "code",
   "execution_count": 29,
   "metadata": {},
   "outputs": [
    {
     "data": {
      "text/plain": [
       "(748, 2)"
      ]
     },
     "execution_count": 29,
     "metadata": {},
     "output_type": "execute_result"
    }
   ],
   "source": [
    "%matplotlib inline\n",
    "import matplotlib as mpl\n",
    "import matplotlib.pyplot as plt\n",
    "import pandas as pd\n",
    "import numpy as np\n",
    "from sklearn.model_selection import train_test_split\n",
    "from sklearn.neighbors import KNeighborsClassifier\n",
    "from sklearn.preprocessing import LabelEncoder\n",
    "import mglearn\n",
    "\n",
    "##-------------load data method----------##\n",
    "def load_dataframe(path):\n",
    "    data_frame = pd.read_csv(path)\n",
    "    return data_frame\n",
    "##------------------------------##\n",
    "\n",
    "normalized_length = []\n",
    "normalized_protocol = []\n",
    "target_list = []\n",
    "\n",
    "df = load_dataframe(\"sample.csv\")\n",
    "df.drop(['No.','Time','Source','Destination', 'Info'], axis=1, inplace = True) ##drop unnecessary features\n",
    "##------------- Handle patterned texts---------##\n",
    "encoder = LabelEncoder()\n",
    "df_protocol = df['Protocol']\n",
    "df['Protocol'] = encoder.fit_transform(df_protocol)\n",
    "##--------------------------------------------##\n",
    "\n",
    "for i in range(0,499):\n",
    "    target_list.append(0)\n",
    "for i in range(0,499):\n",
    "    target_list.append(1)\n",
    "    \n",
    "target = np.array(target_list)\n",
    "\n",
    "##-----------------Normalize Lenght--------------##\n",
    "length = df['Length']\n",
    "length_size = range(0,len(length))\n",
    "length_max = length.max()\n",
    "length_min = length.min()\n",
    "denominator = length_max - length_min\n",
    "for i in length_size:\n",
    "    length.at[i] = length.at[i] + 0.0 \n",
    "    normalized_length.append((length.at[i] - length_min) / (denominator))\n",
    "df['Length'] = pd.DataFrame(normalized_length)\n",
    "##-------------------------------##\n",
    "##-----------------Normalize protocol--------------##\n",
    "protocol = df['Protocol']\n",
    "protocol_size = range(0,len(protocol))\n",
    "protocol_max = protocol.max()\n",
    "protocol_min = protocol.min()\n",
    "denominator_p = protocol_max - protocol_min\n",
    "for i in protocol_size:\n",
    "    protocol.at[i] = protocol.at[i] + 0.0 \n",
    "    normalized_protocol.append((protocol.at[i] - protocol_min) / (denominator_p))\n",
    "df['Protocol'] = pd.DataFrame(normalized_protocol)    \n",
    "##------------------------------------------------------##\n",
    "\n",
    "x_train, x_test, y_train, y_test = train_test_split(df.values, target, stratify=target, random_state=66)\n",
    "##-----------------------Decesion Area Plot----------------------##    \n",
    "clf = KNeighborsClassifier(n_neighbors=748).fit(x_train, y_train)\n",
    "x_train.shape\n",
    "mglearn.plots.plot_2d_separator(clf, x_train, fill=True, eps=0.5, alpha = 0.8)\n",
    "mglearn.discrete_scatter(x_train[:,0],x_train[:,1], y_train)\n",
    "plt.xlabel(\"Protocol\")\n",
    "plt.ylabel(\"Packet Length\")\n",
    "plt.title(\"Neighbors = 748 decision Boundary\")\n",
    "plt.legend([\"DOS\",\"Normal\"])\n",
    "plt.savefig(\"Normalized_Neighbors_100_decision_boundary.png\")\n",
    "##----------------------------------------------------------------##"
   ]
  }
 ],
 "metadata": {
  "kernelspec": {
   "display_name": "Python 3",
   "language": "python",
   "name": "python3"
  },
  "language_info": {
   "codemirror_mode": {
    "name": "ipython",
    "version": 3
   },
   "file_extension": ".py",
   "mimetype": "text/x-python",
   "name": "python",
   "nbconvert_exporter": "python",
   "pygments_lexer": "ipython3",
   "version": "3.7.3"
  }
 },
 "nbformat": 4,
 "nbformat_minor": 2
}
