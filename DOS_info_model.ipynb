{
 "cells": [
  {
   "cell_type": "code",
   "execution_count": 12,
   "metadata": {},
   "outputs": [
    {
     "name": "stdout",
     "output_type": "stream",
     "text": [
      "[0 1 0 0 1 1 1 0 1 0 1 0 0 0 1 1 0 1 1 0 1 0 0 0 0 1 1 0 1 1 1 1 0 1 1 1 1\n",
      " 1 0 1 0 1 0 0 0 1 1 1 1 1 1 1 1 1 1 0 1 0 0 1 0 1 0 0 1 0 0 0 0 0 1 0 0 1\n",
      " 0 1 0 0 1 1 0 1 1 0 0 1 1 0 0 0 0 0 1 1 1 1 1 1 0 0 1 1 0 0 0 0 1 1 0 1 0\n",
      " 1 0 1 1 0 0 1 0 0 1 0 0 1 1 1 0 0 0 0 1 0 1 1 0 0 1 0 0 0 1 0 0 0 1 0 0 1\n",
      " 0 0 1 1 0 1 1 1 1 1 0 1 1 1 1 0 1 0 1 1 1 0 0 1 0 1 1 1 0 1 0 1 0 0 1 0 1\n",
      " 1 0 1 1 1 1 1 0 0 0 1 1 0 0 0 1 1 1 0 1 0 1 1 1 0 0 0 0 0 1 1 0 1 1 1 0 0\n",
      " 1 1 1 1 0 0 1 0 0 1 0 0 1 1 1 0 0 1 0 1 1 0 0 0 0 0 0 0]\n"
     ]
    }
   ],
   "source": [
    "%matplotlib inline\n",
    "import matplotlib as mpl\n",
    "import matplotlib.pyplot as plt\n",
    "import pandas as pd\n",
    "import numpy as np\n",
    "from sklearn.model_selection import train_test_split\n",
    "from sklearn.neighbors import KNeighborsClassifier\n",
    "from sklearn.feature_extraction.text import CountVectorizer\n",
    "from sklearn.preprocessing import LabelEncoder\n",
    "import mglearn\n",
    "\n",
    "\n",
    "##-------------load data method----------##\n",
    "def load_dataframe(path):\n",
    "    data_frame = pd.read_csv(path)\n",
    "    return data_frame\n",
    "##------------------------------##\n",
    "\n",
    "test_score = []\n",
    "train_score = []\n",
    "df = load_dataframe('sample.csv')\n",
    "df.drop(['No.','Time','Source','Destination', 'Protocol','Length'], axis=1, inplace = True) ##drop unnecessary features\n",
    "\n",
    "cv = CountVectorizer()\n",
    "info = cv.fit_transform(df['Info'].values)\n",
    "df['Info'] = info\n",
    "\n",
    "#----------Make targer list---------##\n",
    "target_list = []\n",
    "for i in range(0,499):\n",
    "    target_list.append(0)\n",
    "for i in range(0,499):\n",
    "    target_list.append(1)\n",
    "\n",
    "target = np.array(target_list)\n",
    "##--------------------------------##\n",
    "\n",
    "X_train, X_test, y_train, y_test = train_test_split(info.toarray(), target, random_state=0)\n",
    "\n",
    "knn = KNeighborsClassifier(n_neighbors=2)\n",
    "knn.fit(X_train, y_train)\n",
    "\n",
    "##------------------------------------------------------------##\n",
    "test_csv = load_dataframe('input.csv')\n",
    "test_csv.drop(['No.','Time','Source','Destination', 'Protocol','Length'], axis=1, inplace = True) ##drop unnecessary features\n",
    "\n",
    "cv_1 = CountVectorizer()\n",
    "info_1 = cv_1.fit_transform(test_csv['Info'].values)\n",
    "test_csv['Info'] = info_1\n",
    "\n",
    "prediction = knn.predict(X_test)\n",
    "print(prediction)\n",
    "\n",
    "    \n",
    "\n",
    "##------------------------------------------------------------##\n",
    "\n",
    "##-----------------------Decesion Area Plot----------------------##    \n",
    "##clf = KNeighborsClassifier(n_neighbors=4).fit(X_train, y_train)\n",
    "##mglearn.plots.plot_2d_separator(clf,X_train, fill=True, eps=0.5, alpha = 0.4)\n",
    "##mglearn.discrete_scatter(X_train[:,0],X_train[:,1], y_train)\n",
    "##plt.xlabel(\"Protocol\")\n",
    "##plt.ylabel(\"Packet Length\")\n",
    "##plt.title(\"Neighbors = 4 decision Boundary\")\n",
    "##plt.legend([\"DOS\",\"Normal\"])\n",
    "##plt.savefig(\"Neighbors_4_decision_boundary.png\")\n",
    "##----------------------------------------------------------------##"
   ]
  },
  {
   "cell_type": "code",
   "execution_count": 29,
   "metadata": {},
   "outputs": [
    {
     "ename": "AttributeError",
     "evalue": "'function' object has no attribute 'shape'",
     "output_type": "error",
     "traceback": [
      "\u001b[0;31m---------------------------------------------------------------------------\u001b[0m",
      "\u001b[0;31mAttributeError\u001b[0m                            Traceback (most recent call last)",
      "\u001b[0;32m<ipython-input-29-edd1a87f4151>\u001b[0m in \u001b[0;36m<module>\u001b[0;34m\u001b[0m\n\u001b[0;32m----> 1\u001b[0;31m \u001b[0mprint\u001b[0m\u001b[0;34m(\u001b[0m\u001b[0minfo_1\u001b[0m\u001b[0;34m.\u001b[0m\u001b[0mtoarray\u001b[0m\u001b[0;34m.\u001b[0m\u001b[0mshape\u001b[0m\u001b[0;34m(\u001b[0m\u001b[0;34m)\u001b[0m\u001b[0;34m)\u001b[0m\u001b[0;34m\u001b[0m\u001b[0;34m\u001b[0m\u001b[0m\n\u001b[0m",
      "\u001b[0;31mAttributeError\u001b[0m: 'function' object has no attribute 'shape'"
     ]
    }
   ],
   "source": [
    "print(info_1.toarray.shape())"
   ]
  },
  {
   "cell_type": "code",
   "execution_count": null,
   "metadata": {},
   "outputs": [],
   "source": []
  },
  {
   "cell_type": "code",
   "execution_count": null,
   "metadata": {},
   "outputs": [],
   "source": []
  }
 ],
 "metadata": {
  "kernelspec": {
   "display_name": "Python 3",
   "language": "python",
   "name": "python3"
  },
  "language_info": {
   "codemirror_mode": {
    "name": "ipython",
    "version": 3
   },
   "file_extension": ".py",
   "mimetype": "text/x-python",
   "name": "python",
   "nbconvert_exporter": "python",
   "pygments_lexer": "ipython3",
   "version": "3.7.3"
  }
 },
 "nbformat": 4,
 "nbformat_minor": 2
}
