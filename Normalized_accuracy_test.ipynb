{
 "cells": [
  {
   "cell_type": "code",
   "execution_count": 8,
   "metadata": {},
   "outputs": [
    {
     "data": {
      "image/png": "[encoded data removed]",
      "text/plain": [
       "<Figure size 432x288 with 1 Axes>"
      ]
     },
     "metadata": {
      "needs_background": "light"
     },
     "output_type": "display_data"
    }
   ],
   "source": [
    "%matplotlib inline\n",
    "import matplotlib as mpl\n",
    "import matplotlib.pyplot as plt\n",
    "import pandas as pd\n",
    "import numpy as np\n",
    "from sklearn.model_selection import train_test_split\n",
    "from sklearn.neighbors import KNeighborsClassifier\n",
    "from sklearn.preprocessing import LabelEncoder\n",
    "import mglearn\n",
    "\n",
    "##-------------load data method----------##\n",
    "def load_dataframe(path):\n",
    "    data_frame = pd.read_csv(path)\n",
    "    return data_frame\n",
    "##------------------------------##\n",
    "\n",
    "normalized_length = []\n",
    "normalized_protocol = []\n",
    "target_list = []\n",
    "neighbors_settings = range(1,10)\n",
    "test_score = []\n",
    "train_score = []\n",
    "trainning_accuracy = []\n",
    "test_accuracy = []\n",
    "\n",
    "\n",
    "df = load_dataframe(\"sample.csv\")\n",
    "df.drop(['No.','Time','Source','Destination', 'Info'], axis=1, inplace = True) ##drop unnecessary features\n",
    "##------------- Handle patterned texts---------##\n",
    "encoder = LabelEncoder()\n",
    "df_protocol = df['Protocol']\n",
    "df['Protocol'] = encoder.fit_transform(df_protocol)\n",
    "##--------------------------------------------##\n",
    "\n",
    "for i in range(0,499):\n",
    "    target_list.append(0)\n",
    "for i in range(0,499):\n",
    "    target_list.append(1)\n",
    "    \n",
    "target = np.array(target_list)\n",
    "\n",
    "##-----------------Normalize Lenght--------------##\n",
    "length = df['Length']\n",
    "length_size = range(0,len(length))\n",
    "length_max = length.max()\n",
    "length_min = length.min()\n",
    "denominator = length_max - length_min\n",
    "for i in length_size:\n",
    "    length.at[i] = length.at[i] + 0.0 \n",
    "    normalized_length.append((length.at[i] - length_min) / (denominator))\n",
    "df['Length'] = pd.DataFrame(normalized_length)\n",
    "##-------------------------------##\n",
    "##-----------------Normalize protocol--------------##\n",
    "protocol = df['Protocol']\n",
    "protocol_size = range(0,len(protocol))\n",
    "protocol_max = protocol.max()\n",
    "protocol_min = protocol.min()\n",
    "denominator_p = protocol_max - protocol_min\n",
    "for i in protocol_size:\n",
    "    protocol.at[i] = protocol.at[i] + 0.0 \n",
    "    normalized_protocol.append((protocol.at[i] - protocol_min) / (denominator_p))\n",
    "df['Protocol'] = pd.DataFrame(normalized_protocol)    \n",
    "##------------------------------------------------------##\n",
    "#df.to_csv('normalized.csv')\n",
    "x_train, x_test, y_train, y_test = train_test_split(df.values, target, stratify=target, random_state=66)\n",
    "for n_neighbors in neighbors_settings:\n",
    "    knn = KNeighborsClassifier(n_neighbors=n_neighbors)\n",
    "    knn.fit(x_train, y_train)\n",
    "    #record trainning set accuracy\n",
    "    trainning_accuracy.append(knn.score(x_train, y_train))\n",
    "    #record test set accuracy\n",
    "    test_accuracy.append(knn.score(x_test, y_test))\n",
    "    \n",
    "plt.plot(neighbors_settings, trainning_accuracy, label=\"trainning accuracy\")\n",
    "plt.plot(neighbors_settings, test_accuracy, label=\"test accuracy\")\n",
    "plt.ylabel(\"Accuracy\")\n",
    "plt.xlabel(\"n_neighbors\")\n",
    "plt.legend()\n",
    "plt.savefig('Normalized_train_test_accuracy_till_70 to 90_N.png')"
   ]
  }
 ],
 "metadata": {
  "kernelspec": {
   "display_name": "Python 3",
   "language": "python",
   "name": "python3"
  },
  "language_info": {
   "codemirror_mode": {
    "name": "ipython",
    "version": 3
   },
   "file_extension": ".py",
   "mimetype": "text/x-python",
   "name": "python",
   "nbconvert_exporter": "python",
   "pygments_lexer": "ipython3",
   "version": "3.7.3"
  }
 },
 "nbformat": 4,
 "nbformat_minor": 2
}
